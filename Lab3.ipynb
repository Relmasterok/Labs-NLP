{
 "cells": [
  {
   "cell_type": "code",
   "execution_count": 1,
   "id": "11c0d613-d913-4b5e-bd58-bd1bdfb8a295",
   "metadata": {
    "tags": []
   },
   "outputs": [],
   "source": [
    "#основное задание\n",
    "import pandas as panda\n",
    "from deeppavlov import configs, build_model"
   ]
  },
  {
   "cell_type": "code",
   "execution_count": 2,
   "id": "a3925770-1f4a-4769-aa1b-b3d442f97801",
   "metadata": {
    "tags": []
   },
   "outputs": [],
   "source": [
    "data = panda.read_csv('C:/Users/maksi/anaconda3/dataset/toxic_comments.csv')\n",
    "text = data['text']"
   ]
  },
  {
   "cell_type": "code",
   "execution_count": 3,
   "id": "8db113ea-8448-41eb-ad7f-2a296117037f",
   "metadata": {
    "tags": []
   },
   "outputs": [
    {
     "name": "stderr",
     "output_type": "stream",
     "text": [
      "2023-11-22 23:49:02.627 INFO in 'deeppavlov.download'['download'] at line 138: Skipped http://files.deeppavlov.ai/datasets/insults_data.tar.gz download because of matching hashes\n",
      "2023-11-22 23:49:05.417 INFO in 'deeppavlov.download'['download'] at line 138: Skipped http://files.deeppavlov.ai/deeppavlov_data/classifiers/insults_kaggle_torch_bert_v5.tar.gz download because of matching hashes\n",
      "Some weights of the model checkpoint at bert-base-uncased were not used when initializing BertForSequenceClassification: ['cls.predictions.transform.LayerNorm.bias', 'cls.predictions.transform.dense.bias', 'cls.predictions.transform.LayerNorm.weight', 'cls.seq_relationship.weight', 'cls.seq_relationship.bias', 'cls.predictions.bias', 'cls.predictions.transform.dense.weight']\n",
      "- This IS expected if you are initializing BertForSequenceClassification from the checkpoint of a model trained on another task or with another architecture (e.g. initializing a BertForSequenceClassification model from a BertForPreTraining model).\n",
      "- This IS NOT expected if you are initializing BertForSequenceClassification from the checkpoint of a model that you expect to be exactly identical (initializing a BertForSequenceClassification model from a BertForSequenceClassification model).\n",
      "Some weights of BertForSequenceClassification were not initialized from the model checkpoint at bert-base-uncased and are newly initialized: ['classifier.weight', 'classifier.bias']\n",
      "You should probably TRAIN this model on a down-stream task to be able to use it for predictions and inference.\n",
      "2023-11-22 23:49:09.926 WARNING in 'deeppavlov.core.models.torch_model'['torch_model'] at line 96: Unable to place component TorchTransformersClassifierModel on GPU, since no CUDA GPUs are available. Using CPU.\n"
     ]
    }
   ],
   "source": [
    "model = build_model('insults_kaggle_bert', download = True)"
   ]
  },
  {
   "cell_type": "code",
   "execution_count": 4,
   "id": "a21e1db5-1a30-4246-af23-37b43d28f70e",
   "metadata": {
    "tags": []
   },
   "outputs": [
    {
     "name": "stdout",
     "output_type": "stream",
     "text": [
      "Твит № 1 , тональность текста : ['Not Insult']\n",
      "Explanation\n",
      "Why the edits made under my username Hardcore Metallica Fan were reverted? They weren't vandalisms, just closure on some GAs after I voted at New York Dolls FAC. And please don't remove the template from the talk page since I'm retired now.89.205.38.27\n",
      "----------------------------------------------------------------------------------------------------\n",
      "Твит № 2 , тональность текста : ['Not Insult']\n",
      "D'aww! He matches this background colour I'm seemingly stuck with. Thanks.  (talk) 21:51, January 11, 2016 (UTC)\n",
      "----------------------------------------------------------------------------------------------------\n",
      "Твит № 3 , тональность текста : ['Not Insult']\n",
      "Hey man, I'm really not trying to edit war. It's just that this guy is constantly removing relevant information and talking to me through edits instead of my talk page. He seems to care more about the formatting than the actual info.\n",
      "----------------------------------------------------------------------------------------------------\n",
      "Твит № 4 , тональность текста : ['Not Insult']\n",
      "\"\n",
      "More\n",
      "I can't make any real suggestions on improvement - I wondered if the section statistics should be later on, or a subsection of \"\"types of accidents\"\"  -I think the references may need tidying so that they are all in the exact same format ie date format etc. I can do that later on, if no-one else does first - if you have any preferences for formatting style on references or want to do it yourself please let me know.\n",
      "\n",
      "There appears to be a backlog on articles for review so I guess there may be a delay until a reviewer turns up. It's listed in the relevant form eg Wikipedia:Good_article_nominations#Transport  \"\n",
      "----------------------------------------------------------------------------------------------------\n",
      "Твит № 5 , тональность текста : ['Not Insult']\n",
      "You, sir, are my hero. Any chance you remember what page that's on?\n",
      "----------------------------------------------------------------------------------------------------\n",
      "Твит № 6 , тональность текста : ['Not Insult']\n",
      "\"\n",
      "\n",
      "Congratulations from me as well, use the tools well.  · talk \"\n",
      "----------------------------------------------------------------------------------------------------\n",
      "Твит № 7 , тональность текста : ['Insult']\n",
      "COCKSUCKER BEFORE YOU PISS AROUND ON MY WORK\n",
      "----------------------------------------------------------------------------------------------------\n",
      "Твит № 8 , тональность текста : ['Not Insult']\n",
      "Your vandalism to the Matt Shirvington article has been reverted.  Please don't do it again, or you will be banned.\n",
      "----------------------------------------------------------------------------------------------------\n",
      "Твит № 9 , тональность текста : ['Not Insult']\n",
      "Sorry if the word 'nonsense' was offensive to you. Anyway, I'm not intending to write anything in the article(wow they would jump on me for vandalism), I'm merely requesting that it be more encyclopedic so one can use it for school as a reference. I have been to the selective breeding page but it's almost a stub. It points to 'animal breeding' which is a short messy article that gives you no info. There must be someone around with expertise in eugenics? 93.161.107.169\n",
      "----------------------------------------------------------------------------------------------------\n",
      "Твит № 10 , тональность текста : ['Not Insult']\n",
      "alignment on this subject and which are contrary to those of DuLithgow\n",
      "----------------------------------------------------------------------------------------------------\n",
      "Твит № 11 , тональность текста : ['Not Insult']\n",
      "\"\n",
      "Fair use rationale for Image:Wonju.jpg\n",
      "\n",
      "Thanks for uploading Image:Wonju.jpg. I notice the image page specifies that the image is being used under fair use but there is no explanation or rationale as to why its use in Wikipedia articles constitutes fair use. In addition to the boilerplate fair use template, you must also write out on the image description page a specific explanation or rationale for why using this image in each article is consistent with fair use.\n",
      "\n",
      "Please go to the image description page and edit it to include a fair use rationale.\n",
      "\n",
      "If you have uploaded other fair use media, consider checking that you have specified the fair use rationale on those pages too. You can find a list of 'image' pages you have edited by clicking on the \"\"my contributions\"\" link (it is located at the very top of any Wikipedia page when you are logged in), and then selecting \"\"Image\"\" from the dropdown box. Note that any fair use images uploaded after 4 May, 2006, and lacking such an explanation will be deleted one week after they have been uploaded, as described on criteria for speedy deletion. If you have any questions please ask them at the Media copyright questions page. Thank you. (talk • contribs • ) \n",
      "Unspecified source for Image:Wonju.jpg\n",
      "\n",
      "Thanks for uploading Image:Wonju.jpg. I noticed that the file's description page currently doesn't specify who created the content, so the copyright status is unclear. If you did not create this file yourself, then you will need to specify the owner of the copyright. If you obtained it from a website, then a link to the website from which it was taken, together with a restatement of that website's terms of use of its content, is usually sufficient information. However, if the copyright holder is different from the website's publisher, then their copyright should also be acknowledged.\n",
      "\n",
      "As well as adding the source, please add a proper copyright licensing tag if the file doesn't have one already. If you created/took the picture, audio, or video then the  tag can be used to release it under the GFDL. If you believe the media meets the criteria at Wikipedia:Fair use, use a tag such as  or one of the other tags listed at Wikipedia:Image copyright tags#Fair use. See Wikipedia:Image copyright tags for the full list of copyright tags that you can use.\n",
      "\n",
      "If you have uploaded other files, consider checking that you have specified their source and tagged them, too. You can find a list of files you have uploaded by following [ this link]. Unsourced and untagged images may be deleted one week after they have been tagged, as described on criteria for speedy deletion. If the image is copyrighted under a non-free license (per Wikipedia:Fair use) then the image will be deleted 48 hours after . If you have any questions please ask them at the Media copyright questions page. Thank you. (talk • contribs • ) \"\n",
      "----------------------------------------------------------------------------------------------------\n",
      "Твит № 12 , тональность текста : ['Not Insult']\n",
      "bbq \n",
      "\n",
      "be a man and lets discuss it-maybe over the phone?\n",
      "----------------------------------------------------------------------------------------------------\n",
      "Твит № 13 , тональность текста : ['Not Insult']\n",
      "Hey... what is it..\n",
      "@ | talk .\n",
      "What is it... an exclusive group of some WP TALIBANS...who are good at destroying, self-appointed purist who GANG UP any one who asks them questions abt their ANTI-SOCIAL and DESTRUCTIVE (non)-contribution at WP?\n",
      "\n",
      "Ask Sityush to clean up his behavior than issue me nonsensical warnings...\n",
      "----------------------------------------------------------------------------------------------------\n",
      "Твит № 14 , тональность текста : ['Not Insult']\n",
      "Before you start throwing accusations and warnings at me, lets review the edit itself-making ad hominem attacks isn't going to strengthen your argument, it will merely make it look like you are abusing your power as an admin. \n",
      "Now, the edit itself is relevant-this is probably the single most talked about event int he news as of late. His absence is notable, since he is the only living ex-president who did not attend. That's certainly more notable than his dedicating an aircracft carrier. \n",
      "I intend to revert this edit, in hopes of attracting the attention of an admin that is willing to look at the issue itself, and not throw accusations around quite so liberally. Perhaps, if you achieve a level of civility where you can do this, we can have a rational discussion on the topic and resolve the matter peacefully.\n",
      "----------------------------------------------------------------------------------------------------\n",
      "Твит № 15 , тональность текста : ['Not Insult']\n",
      "Oh, and the girl above started her arguments with me. She stuck her nose where it doesn't belong. I believe the argument was between me and Yvesnimmo. But like I said, the situation was settled and I apologized. Thanks,\n",
      "----------------------------------------------------------------------------------------------------\n"
     ]
    }
   ],
   "source": [
    "for i in range(0, 15, 1):\n",
    "    print(\"Твит №\", i + 1, \", тональность текста :\", model([text[i]]))\n",
    "    print(text[i])\n",
    "    print(\"----------------------------------------------------------------------------------------------------\")"
   ]
  },
  {
   "cell_type": "code",
   "execution_count": null,
   "id": "ec014d4b-217c-499a-bcba-4fbc51d958f8",
   "metadata": {},
   "outputs": [],
   "source": []
  },
  {
   "cell_type": "code",
   "execution_count": 5,
   "id": "b1aaa119-f340-4ea8-8e67-ec0f84b4a52a",
   "metadata": {
    "tags": []
   },
   "outputs": [],
   "source": [
    "#УСЛОЖНЕНИЕ 1\n",
    "from deeppavlov import configs, build_model"
   ]
  },
  {
   "cell_type": "code",
   "execution_count": 6,
   "id": "48aa831d-5542-4b39-8ec0-93e429cb4475",
   "metadata": {
    "tags": []
   },
   "outputs": [
    {
     "name": "stderr",
     "output_type": "stream",
     "text": [
      "2023-11-22 23:49:12.856 INFO in 'deeppavlov.download'['download'] at line 138: Skipped http://files.deeppavlov.ai/datasets/insults_data.tar.gz download because of matching hashes\n",
      "2023-11-22 23:49:15.645 INFO in 'deeppavlov.download'['download'] at line 138: Skipped http://files.deeppavlov.ai/deeppavlov_data/classifiers/insults_kaggle_torch_bert_v5.tar.gz download because of matching hashes\n",
      "Some weights of the model checkpoint at bert-base-uncased were not used when initializing BertForSequenceClassification: ['cls.predictions.transform.LayerNorm.bias', 'cls.predictions.transform.dense.bias', 'cls.predictions.transform.LayerNorm.weight', 'cls.seq_relationship.weight', 'cls.seq_relationship.bias', 'cls.predictions.bias', 'cls.predictions.transform.dense.weight']\n",
      "- This IS expected if you are initializing BertForSequenceClassification from the checkpoint of a model trained on another task or with another architecture (e.g. initializing a BertForSequenceClassification model from a BertForPreTraining model).\n",
      "- This IS NOT expected if you are initializing BertForSequenceClassification from the checkpoint of a model that you expect to be exactly identical (initializing a BertForSequenceClassification model from a BertForSequenceClassification model).\n",
      "Some weights of BertForSequenceClassification were not initialized from the model checkpoint at bert-base-uncased and are newly initialized: ['classifier.weight', 'classifier.bias']\n",
      "You should probably TRAIN this model on a down-stream task to be able to use it for predictions and inference.\n",
      "2023-11-22 23:49:17.305 WARNING in 'deeppavlov.core.models.torch_model'['torch_model'] at line 96: Unable to place component TorchTransformersClassifierModel on GPU, since no CUDA GPUs are available. Using CPU.\n"
     ]
    }
   ],
   "source": [
    "model = build_model('insults_kaggle_bert', download = True)"
   ]
  },
  {
   "cell_type": "code",
   "execution_count": 7,
   "id": "7d1d1a13-c4d8-4018-a17e-17037c889575",
   "metadata": {
    "tags": []
   },
   "outputs": [],
   "source": [
    "import pandas as panda\n",
    "import re\n",
    "from sklearn.feature_extraction.text import CountVectorizer\n",
    "from nltk.tokenize import word_tokenize\n",
    "from nltk.stem import WordNetLemmatizer"
   ]
  },
  {
   "cell_type": "code",
   "execution_count": 8,
   "id": "b3b7710a-20f5-47e7-a1ab-01e82e45409b",
   "metadata": {
    "tags": []
   },
   "outputs": [],
   "source": [
    "#загружаем датасет\n",
    "data = panda.read_csv('C:/Users/maksi/anaconda3/dataset/toxic_comments.csv')\n",
    "firstText = data.head(15)\n",
    "text = firstText['text']"
   ]
  },
  {
   "cell_type": "code",
   "execution_count": 9,
   "id": "d00ec57f-9e33-4ae3-ad15-a60b09f6362c",
   "metadata": {
    "tags": []
   },
   "outputs": [],
   "source": [
    "#cоздание векторизатора CountVectorizer\n",
    "vectorizer = CountVectorizer()"
   ]
  },
  {
   "cell_type": "code",
   "execution_count": 10,
   "id": "f06cb395-d487-4dcd-b305-54728e5a7356",
   "metadata": {
    "tags": []
   },
   "outputs": [],
   "source": [
    "#преобразовывание входной текст в матрицу\n",
    "vectorizedText = vectorizer.fit_transform(firstText['text'])"
   ]
  },
  {
   "cell_type": "code",
   "execution_count": 11,
   "id": "1de4fd67-edc5-46ab-86e0-2673e82fb03d",
   "metadata": {
    "tags": []
   },
   "outputs": [],
   "source": [
    "#переносим все твиты в вектор\n",
    "vectorText = firstText['text'].tolist()"
   ]
  },
  {
   "cell_type": "code",
   "execution_count": 12,
   "id": "2b2ccd58-f94f-465d-af56-9fa27367a6d0",
   "metadata": {
    "tags": []
   },
   "outputs": [
    {
     "data": {
      "text/plain": [
       "[\"Explanation\\nWhy the edits made under my username Hardcore Metallica Fan were reverted? They weren't vandalisms, just closure on some GAs after I voted at New York Dolls FAC. And please don't remove the template from the talk page since I'm retired now.89.205.38.27\",\n",
       " \"D'aww! He matches this background colour I'm seemingly stuck with. Thanks.  (talk) 21:51, January 11, 2016 (UTC)\",\n",
       " \"Hey man, I'm really not trying to edit war. It's just that this guy is constantly removing relevant information and talking to me through edits instead of my talk page. He seems to care more about the formatting than the actual info.\",\n",
       " '\"\\nMore\\nI can\\'t make any real suggestions on improvement - I wondered if the section statistics should be later on, or a subsection of \"\"types of accidents\"\"  -I think the references may need tidying so that they are all in the exact same format ie date format etc. I can do that later on, if no-one else does first - if you have any preferences for formatting style on references or want to do it yourself please let me know.\\n\\nThere appears to be a backlog on articles for review so I guess there may be a delay until a reviewer turns up. It\\'s listed in the relevant form eg Wikipedia:Good_article_nominations#Transport  \"',\n",
       " \"You, sir, are my hero. Any chance you remember what page that's on?\",\n",
       " '\"\\n\\nCongratulations from me as well, use the tools well. \\xa0· talk \"',\n",
       " 'COCKSUCKER BEFORE YOU PISS AROUND ON MY WORK',\n",
       " \"Your vandalism to the Matt Shirvington article has been reverted.  Please don't do it again, or you will be banned.\",\n",
       " \"Sorry if the word 'nonsense' was offensive to you. Anyway, I'm not intending to write anything in the article(wow they would jump on me for vandalism), I'm merely requesting that it be more encyclopedic so one can use it for school as a reference. I have been to the selective breeding page but it's almost a stub. It points to 'animal breeding' which is a short messy article that gives you no info. There must be someone around with expertise in eugenics? 93.161.107.169\",\n",
       " 'alignment on this subject and which are contrary to those of DuLithgow',\n",
       " '\"\\nFair use rationale for Image:Wonju.jpg\\n\\nThanks for uploading Image:Wonju.jpg. I notice the image page specifies that the image is being used under fair use but there is no explanation or rationale as to why its use in Wikipedia articles constitutes fair use. In addition to the boilerplate fair use template, you must also write out on the image description page a specific explanation or rationale for why using this image in each article is consistent with fair use.\\n\\nPlease go to the image description page and edit it to include a fair use rationale.\\n\\nIf you have uploaded other fair use media, consider checking that you have specified the fair use rationale on those pages too. You can find a list of \\'image\\' pages you have edited by clicking on the \"\"my contributions\"\" link (it is located at the very top of any Wikipedia page when you are logged in), and then selecting \"\"Image\"\" from the dropdown box. Note that any fair use images uploaded after 4 May, 2006, and lacking such an explanation will be deleted one week after they have been uploaded, as described on criteria for speedy deletion. If you have any questions please ask them at the Media copyright questions page. Thank you. (talk • contribs • ) \\nUnspecified source for Image:Wonju.jpg\\n\\nThanks for uploading Image:Wonju.jpg. I noticed that the file\\'s description page currently doesn\\'t specify who created the content, so the copyright status is unclear. If you did not create this file yourself, then you will need to specify the owner of the copyright. If you obtained it from a website, then a link to the website from which it was taken, together with a restatement of that website\\'s terms of use of its content, is usually sufficient information. However, if the copyright holder is different from the website\\'s publisher, then their copyright should also be acknowledged.\\n\\nAs well as adding the source, please add a proper copyright licensing tag if the file doesn\\'t have one already. If you created/took the picture, audio, or video then the  tag can be used to release it under the GFDL. If you believe the media meets the criteria at Wikipedia:Fair use, use a tag such as  or one of the other tags listed at Wikipedia:Image copyright tags#Fair use. See Wikipedia:Image copyright tags for the full list of copyright tags that you can use.\\n\\nIf you have uploaded other files, consider checking that you have specified their source and tagged them, too. You can find a list of files you have uploaded by following [ this link]. Unsourced and untagged images may be deleted one week after they have been tagged, as described on criteria for speedy deletion. If the image is copyrighted under a non-free license (per Wikipedia:Fair use) then the image will be deleted 48 hours after . If you have any questions please ask them at the Media copyright questions page. Thank you. (talk • contribs • ) \"',\n",
       " 'bbq \\n\\nbe a man and lets discuss it-maybe over the phone?',\n",
       " 'Hey... what is it..\\n@ | talk .\\nWhat is it... an exclusive group of some WP TALIBANS...who are good at destroying, self-appointed purist who GANG UP any one who asks them questions abt their ANTI-SOCIAL and DESTRUCTIVE (non)-contribution at WP?\\n\\nAsk Sityush to clean up his behavior than issue me nonsensical warnings...',\n",
       " \"Before you start throwing accusations and warnings at me, lets review the edit itself-making ad hominem attacks isn't going to strengthen your argument, it will merely make it look like you are abusing your power as an admin. \\nNow, the edit itself is relevant-this is probably the single most talked about event int he news as of late. His absence is notable, since he is the only living ex-president who did not attend. That's certainly more notable than his dedicating an aircracft carrier. \\nI intend to revert this edit, in hopes of attracting the attention of an admin that is willing to look at the issue itself, and not throw accusations around quite so liberally. Perhaps, if you achieve a level of civility where you can do this, we can have a rational discussion on the topic and resolve the matter peacefully.\",\n",
       " \"Oh, and the girl above started her arguments with me. She stuck her nose where it doesn't belong. I believe the argument was between me and Yvesnimmo. But like I said, the situation was settled and I apologized. Thanks,\"]"
      ]
     },
     "execution_count": 12,
     "metadata": {},
     "output_type": "execute_result"
    }
   ],
   "source": [
    "#вывод вектора\n",
    "vectorText"
   ]
  },
  {
   "cell_type": "code",
   "execution_count": 13,
   "id": "a0ac1666-1444-48de-bcda-a4b466db1af1",
   "metadata": {
    "tags": []
   },
   "outputs": [],
   "source": [
    "import nltk\n",
    "import numpy as np\n",
    "import string"
   ]
  },
  {
   "cell_type": "code",
   "execution_count": 14,
   "id": "445c50f4-3ea5-4daf-83d1-4530e76e191c",
   "metadata": {
    "tags": []
   },
   "outputs": [],
   "source": [
    "#создание вектора, в котором каждое предложение разделяется на слова\n",
    "wordList = [text.translate(str.maketrans(\"\", \"\", string.punctuation)).split() for text in text]"
   ]
  },
  {
   "cell_type": "code",
   "execution_count": 15,
   "id": "03c31b8d-b362-4687-991d-b393969b7e0f",
   "metadata": {
    "tags": []
   },
   "outputs": [
    {
     "name": "stdout",
     "output_type": "stream",
     "text": [
      "['Explanation', 'Why', 'the', 'edits', 'made', 'under', 'my', 'username', 'Hardcore', 'Metallica', 'Fan', 'were', 'reverted', 'They', 'werent', 'vandalisms', 'just', 'closure', 'on', 'some', 'GAs', 'after', 'I', 'voted', 'at', 'New', 'York', 'Dolls', 'FAC', 'And', 'please', 'dont', 'remove', 'the', 'template', 'from', 'the', 'talk', 'page', 'since', 'Im', 'retired', 'now892053827']\n",
      "['Daww', 'He', 'matches', 'this', 'background', 'colour', 'Im', 'seemingly', 'stuck', 'with', 'Thanks', 'talk', '2151', 'January', '11', '2016', 'UTC']\n",
      "['Hey', 'man', 'Im', 'really', 'not', 'trying', 'to', 'edit', 'war', 'Its', 'just', 'that', 'this', 'guy', 'is', 'constantly', 'removing', 'relevant', 'information', 'and', 'talking', 'to', 'me', 'through', 'edits', 'instead', 'of', 'my', 'talk', 'page', 'He', 'seems', 'to', 'care', 'more', 'about', 'the', 'formatting', 'than', 'the', 'actual', 'info']\n"
     ]
    }
   ],
   "source": [
    "#вывод этого вектора (для примера вывел первые три предложения)\n",
    "for i in range(0, 3, 1):\n",
    "    print(wordList[i])"
   ]
  },
  {
   "cell_type": "code",
   "execution_count": 16,
   "id": "1ac393fa-6dc3-4aeb-84a0-f1763a28020f",
   "metadata": {
    "tags": []
   },
   "outputs": [],
   "source": [
    "#cоздание лемматизации WordNetLemmatizer\n",
    "lemmatizer = WordNetLemmatizer()"
   ]
  },
  {
   "cell_type": "code",
   "execution_count": 17,
   "id": "906e2a6e-aa6e-40c7-b102-2487768088c9",
   "metadata": {
    "tags": []
   },
   "outputs": [],
   "source": [
    "#лемматизация текста\n",
    "lemmatizedText = []\n",
    "for i in range (0, len(text), 1):\n",
    "    lemmatizedText.append(' '.join([lemmatizer.lemmatize(w) for w in wordList[i]]))"
   ]
  },
  {
   "cell_type": "code",
   "execution_count": 18,
   "id": "9e0e4721-5f4a-4ebd-9b76-052ffd3ca868",
   "metadata": {
    "tags": []
   },
   "outputs": [
    {
     "name": "stdout",
     "output_type": "stream",
     "text": [
      "[ Explanation Why the edits made under my username Hardcore Metallica Fan were reverted They werent vandalism just closure on some GAs after I voted at New York Dolls FAC And please dont remove the template from the talk page since Im retired now892053827 ]\n",
      "[ Daww He match this background colour Im seemingly stuck with Thanks talk 2151 January 11 2016 UTC ]\n",
      "[ Hey man Im really not trying to edit war Its just that this guy is constantly removing relevant information and talking to me through edits instead of my talk page He seems to care more about the formatting than the actual info ]\n"
     ]
    }
   ],
   "source": [
    "#вывод лемматизированных предложений (для примера выведем первые три предложения)\n",
    "for i in range(0, 3, 1):\n",
    "    print(\"[\", lemmatizedText[i], \"]\")"
   ]
  },
  {
   "cell_type": "code",
   "execution_count": 19,
   "id": "89dbe9da-24bd-4b46-9519-50fb4a425b51",
   "metadata": {
    "tags": []
   },
   "outputs": [
    {
     "name": "stdout",
     "output_type": "stream",
     "text": [
      "Твит № 1 , тональность текста : ['Not Insult']\n",
      "Explanation\n",
      "Why the edits made under my username Hardcore Metallica Fan were reverted? They weren't vandalisms, just closure on some GAs after I voted at New York Dolls FAC. And please don't remove the template from the talk page since I'm retired now.89.205.38.27\n",
      "----------------------------------------------------------------------------------------------------\n",
      "Твит № 2 , тональность текста : ['Not Insult']\n",
      "D'aww! He matches this background colour I'm seemingly stuck with. Thanks.  (talk) 21:51, January 11, 2016 (UTC)\n",
      "----------------------------------------------------------------------------------------------------\n",
      "Твит № 3 , тональность текста : ['Not Insult']\n",
      "Hey man, I'm really not trying to edit war. It's just that this guy is constantly removing relevant information and talking to me through edits instead of my talk page. He seems to care more about the formatting than the actual info.\n",
      "----------------------------------------------------------------------------------------------------\n",
      "Твит № 4 , тональность текста : ['Not Insult']\n",
      "\"\n",
      "More\n",
      "I can't make any real suggestions on improvement - I wondered if the section statistics should be later on, or a subsection of \"\"types of accidents\"\"  -I think the references may need tidying so that they are all in the exact same format ie date format etc. I can do that later on, if no-one else does first - if you have any preferences for formatting style on references or want to do it yourself please let me know.\n",
      "\n",
      "There appears to be a backlog on articles for review so I guess there may be a delay until a reviewer turns up. It's listed in the relevant form eg Wikipedia:Good_article_nominations#Transport  \"\n",
      "----------------------------------------------------------------------------------------------------\n",
      "Твит № 5 , тональность текста : ['Not Insult']\n",
      "You, sir, are my hero. Any chance you remember what page that's on?\n",
      "----------------------------------------------------------------------------------------------------\n",
      "Твит № 6 , тональность текста : ['Not Insult']\n",
      "\"\n",
      "\n",
      "Congratulations from me as well, use the tools well.  · talk \"\n",
      "----------------------------------------------------------------------------------------------------\n",
      "Твит № 7 , тональность текста : ['Insult']\n",
      "COCKSUCKER BEFORE YOU PISS AROUND ON MY WORK\n",
      "----------------------------------------------------------------------------------------------------\n",
      "Твит № 8 , тональность текста : ['Insult']\n",
      "Your vandalism to the Matt Shirvington article has been reverted.  Please don't do it again, or you will be banned.\n",
      "----------------------------------------------------------------------------------------------------\n",
      "Твит № 9 , тональность текста : ['Not Insult']\n",
      "Sorry if the word 'nonsense' was offensive to you. Anyway, I'm not intending to write anything in the article(wow they would jump on me for vandalism), I'm merely requesting that it be more encyclopedic so one can use it for school as a reference. I have been to the selective breeding page but it's almost a stub. It points to 'animal breeding' which is a short messy article that gives you no info. There must be someone around with expertise in eugenics? 93.161.107.169\n",
      "----------------------------------------------------------------------------------------------------\n",
      "Твит № 10 , тональность текста : ['Not Insult']\n",
      "alignment on this subject and which are contrary to those of DuLithgow\n",
      "----------------------------------------------------------------------------------------------------\n",
      "Твит № 11 , тональность текста : ['Not Insult']\n",
      "\"\n",
      "Fair use rationale for Image:Wonju.jpg\n",
      "\n",
      "Thanks for uploading Image:Wonju.jpg. I notice the image page specifies that the image is being used under fair use but there is no explanation or rationale as to why its use in Wikipedia articles constitutes fair use. In addition to the boilerplate fair use template, you must also write out on the image description page a specific explanation or rationale for why using this image in each article is consistent with fair use.\n",
      "\n",
      "Please go to the image description page and edit it to include a fair use rationale.\n",
      "\n",
      "If you have uploaded other fair use media, consider checking that you have specified the fair use rationale on those pages too. You can find a list of 'image' pages you have edited by clicking on the \"\"my contributions\"\" link (it is located at the very top of any Wikipedia page when you are logged in), and then selecting \"\"Image\"\" from the dropdown box. Note that any fair use images uploaded after 4 May, 2006, and lacking such an explanation will be deleted one week after they have been uploaded, as described on criteria for speedy deletion. If you have any questions please ask them at the Media copyright questions page. Thank you. (talk • contribs • ) \n",
      "Unspecified source for Image:Wonju.jpg\n",
      "\n",
      "Thanks for uploading Image:Wonju.jpg. I noticed that the file's description page currently doesn't specify who created the content, so the copyright status is unclear. If you did not create this file yourself, then you will need to specify the owner of the copyright. If you obtained it from a website, then a link to the website from which it was taken, together with a restatement of that website's terms of use of its content, is usually sufficient information. However, if the copyright holder is different from the website's publisher, then their copyright should also be acknowledged.\n",
      "\n",
      "As well as adding the source, please add a proper copyright licensing tag if the file doesn't have one already. If you created/took the picture, audio, or video then the  tag can be used to release it under the GFDL. If you believe the media meets the criteria at Wikipedia:Fair use, use a tag such as  or one of the other tags listed at Wikipedia:Image copyright tags#Fair use. See Wikipedia:Image copyright tags for the full list of copyright tags that you can use.\n",
      "\n",
      "If you have uploaded other files, consider checking that you have specified their source and tagged them, too. You can find a list of files you have uploaded by following [ this link]. Unsourced and untagged images may be deleted one week after they have been tagged, as described on criteria for speedy deletion. If the image is copyrighted under a non-free license (per Wikipedia:Fair use) then the image will be deleted 48 hours after . If you have any questions please ask them at the Media copyright questions page. Thank you. (talk • contribs • ) \"\n",
      "----------------------------------------------------------------------------------------------------\n",
      "Твит № 12 , тональность текста : ['Not Insult']\n",
      "bbq \n",
      "\n",
      "be a man and lets discuss it-maybe over the phone?\n",
      "----------------------------------------------------------------------------------------------------\n",
      "Твит № 13 , тональность текста : ['Not Insult']\n",
      "Hey... what is it..\n",
      "@ | talk .\n",
      "What is it... an exclusive group of some WP TALIBANS...who are good at destroying, self-appointed purist who GANG UP any one who asks them questions abt their ANTI-SOCIAL and DESTRUCTIVE (non)-contribution at WP?\n",
      "\n",
      "Ask Sityush to clean up his behavior than issue me nonsensical warnings...\n",
      "----------------------------------------------------------------------------------------------------\n",
      "Твит № 14 , тональность текста : ['Not Insult']\n",
      "Before you start throwing accusations and warnings at me, lets review the edit itself-making ad hominem attacks isn't going to strengthen your argument, it will merely make it look like you are abusing your power as an admin. \n",
      "Now, the edit itself is relevant-this is probably the single most talked about event int he news as of late. His absence is notable, since he is the only living ex-president who did not attend. That's certainly more notable than his dedicating an aircracft carrier. \n",
      "I intend to revert this edit, in hopes of attracting the attention of an admin that is willing to look at the issue itself, and not throw accusations around quite so liberally. Perhaps, if you achieve a level of civility where you can do this, we can have a rational discussion on the topic and resolve the matter peacefully.\n",
      "----------------------------------------------------------------------------------------------------\n",
      "Твит № 15 , тональность текста : ['Not Insult']\n",
      "Oh, and the girl above started her arguments with me. She stuck her nose where it doesn't belong. I believe the argument was between me and Yvesnimmo. But like I said, the situation was settled and I apologized. Thanks,\n",
      "----------------------------------------------------------------------------------------------------\n"
     ]
    }
   ],
   "source": [
    "#вывод тональности лемматизированных твитов (для примера, взял первые 15 твитов)\n",
    "for i in range(0, len(text), 1):\n",
    "    print(\"Твит №\", i + 1, \", тональность текста :\", model([lemmatizedText[i]]))\n",
    "    print(text[i])\n",
    "    print(\"----------------------------------------------------------------------------------------------------\")"
   ]
  },
  {
   "cell_type": "code",
   "execution_count": 21,
   "id": "56e82147-e7a7-47fe-89f1-42334b37aab6",
   "metadata": {
    "tags": []
   },
   "outputs": [],
   "source": [
    "#УСЛОЖНЕНИЕ 2\n",
    "import pymorphy3\n",
    "import nltk"
   ]
  },
  {
   "cell_type": "code",
   "execution_count": 22,
   "id": "d0e871ae-cbc2-4718-8a35-05d05e5035b2",
   "metadata": {
    "tags": []
   },
   "outputs": [],
   "source": [
    "morph = pymorphy3.MorphAnalyzer()"
   ]
  },
  {
   "cell_type": "code",
   "execution_count": 23,
   "id": "a5a751c7-2c2e-47ed-8eea-25ad9a5e72fa",
   "metadata": {
    "tags": []
   },
   "outputs": [],
   "source": [
    "#загружаем датасет\n",
    "data = panda.read_csv('C:/Users/maksi/anaconda3/dataset/rusentitweet_full.csv')\n",
    "trainData = panda.read_csv('C:/Users/maksi/anaconda3/dataset/rusentitweet_train.csv')\n",
    "testData = panda.read_csv('C:/Users/maksi/anaconda3/dataset/rusentitweet_test.csv')\n",
    "firstRuText = data.head(15)\n",
    "ruText = firstRuText['text']"
   ]
  },
  {
   "cell_type": "code",
   "execution_count": 24,
   "id": "048a6a05-a9ea-4ac4-9185-8be935e5f7ca",
   "metadata": {
    "tags": []
   },
   "outputs": [
    {
     "name": "stderr",
     "output_type": "stream",
     "text": [
      "2023-11-22 23:51:09.87 INFO in 'deeppavlov.download'['download'] at line 138: Skipped http://files.deeppavlov.ai/v1/classifiers/rusentiment_bert/rusentiment_bert_torch.tar.gz download because of matching hashes\n",
      "Some weights of the model checkpoint at bert-base-multilingual-cased were not used when initializing BertForSequenceClassification: ['cls.predictions.transform.LayerNorm.bias', 'cls.predictions.transform.dense.bias', 'cls.predictions.transform.LayerNorm.weight', 'cls.seq_relationship.weight', 'cls.seq_relationship.bias', 'cls.predictions.bias', 'cls.predictions.transform.dense.weight']\n",
      "- This IS expected if you are initializing BertForSequenceClassification from the checkpoint of a model trained on another task or with another architecture (e.g. initializing a BertForSequenceClassification model from a BertForPreTraining model).\n",
      "- This IS NOT expected if you are initializing BertForSequenceClassification from the checkpoint of a model that you expect to be exactly identical (initializing a BertForSequenceClassification model from a BertForSequenceClassification model).\n",
      "Some weights of BertForSequenceClassification were not initialized from the model checkpoint at bert-base-multilingual-cased and are newly initialized: ['classifier.weight', 'classifier.bias']\n",
      "You should probably TRAIN this model on a down-stream task to be able to use it for predictions and inference.\n",
      "2023-11-22 23:51:11.50 WARNING in 'deeppavlov.core.models.torch_model'['torch_model'] at line 96: Unable to place component TorchTransformersClassifierModel on GPU, since no CUDA GPUs are available. Using CPU.\n"
     ]
    }
   ],
   "source": [
    "#не получилось самому настроить модель, взял уже предобученную BERT модель\n",
    "ruModel = build_model(configs.classifiers.rusentiment_bert, download = True)"
   ]
  },
  {
   "cell_type": "code",
   "execution_count": 25,
   "id": "494d5f27-a014-49d4-9c75-ab354fc06b17",
   "metadata": {},
   "outputs": [],
   "source": [
    "#преобразовывание входной текст в матрицу\n",
    "vectorizedRuText = vectorizer.fit_transform(firstRuText['text'])"
   ]
  },
  {
   "cell_type": "code",
   "execution_count": 26,
   "id": "46bd4cc2-8d57-4bfb-b058-1347f6d3e7b8",
   "metadata": {
    "tags": []
   },
   "outputs": [],
   "source": [
    "#переносим все твиты в вектор\n",
    "vectorRuText = firstRuText['text'].tolist()"
   ]
  },
  {
   "cell_type": "code",
   "execution_count": 27,
   "id": "af0b9307-033e-4e84-a9f3-e7ea839083ba",
   "metadata": {
    "tags": []
   },
   "outputs": [
    {
     "data": {
      "text/plain": [
       "['@varlamov @McFaul На',\n",
       " 'велл они  всё равно что мусор так что ничего страшного 🤣',\n",
       " '\"трезвая жизнь какая-то такая стрёмная\"\\r\\n(с) артём azrtusa',\n",
       " 'Ой какие неожиданные результаты 🤭 https://t.co/ZwOHPDKUqq',\n",
       " '@Shvonder_chief @dimsmirnov175 На заборе тоже написано,а там другое.О сборе денег слышу впервые.',\n",
       " '@idkwhht мы тоже мебельная компания уджина😳😳😳',\n",
       " 'Счастья здоровья 10 классникам https://t.co/M9VunSiXDI',\n",
       " '@dntbliev НЕ ПАЛИ.',\n",
       " '@BTS_twt ты такой красивый 😭😭😭🥺💓',\n",
       " '@Ladyzchensk Цыган , хуле ...',\n",
       " '@nikogdanahui1 С днём рождения 🥳 \\r\\nУспехов и побед тебе☀️',\n",
       " '@okdaa @wifeyoonminn @Y_Yoon_ Но ты очень красиво и чувственно пишешь(',\n",
       " '@Luvyurbodybby \"Я играю в волейбол не ради смысла.\"',\n",
       " '@Susanoo51489064 ВХВХВХ',\n",
       " '@tutby 📊\\r\\n-- «День Выборов Президента Беларуси» — начать опрос — https://t.co/eM6JwORI0t']"
      ]
     },
     "execution_count": 27,
     "metadata": {},
     "output_type": "execute_result"
    }
   ],
   "source": [
    "#вывод вектора\n",
    "vectorRuText"
   ]
  },
  {
   "cell_type": "code",
   "execution_count": 28,
   "id": "6c3f13e2-7b38-4e74-9d3d-54877879d135",
   "metadata": {
    "tags": []
   },
   "outputs": [],
   "source": [
    "#создание вектора, в котором каждое предложение разделяется на слова\n",
    "ruWordList = [ruText.translate(str.maketrans(\"\", \"\", string.punctuation)).split() for ruText in ruText]"
   ]
  },
  {
   "cell_type": "code",
   "execution_count": 29,
   "id": "af208f8a-a527-4296-8a07-a5253b6e9b17",
   "metadata": {
    "tags": []
   },
   "outputs": [
    {
     "name": "stdout",
     "output_type": "stream",
     "text": [
      "['varlamov', 'McFaul', 'На']\n",
      "['велл', 'они', 'всё', 'равно', 'что', 'мусор', 'так', 'что', 'ничего', 'страшного', '🤣']\n",
      "['трезвая', 'жизнь', 'какаято', 'такая', 'стрёмная', 'с', 'артём', 'azrtusa']\n"
     ]
    }
   ],
   "source": [
    "#вывод этого вектора (для примера вывел первые три предложения)\n",
    "for i in range(0, 3, 1):\n",
    "    print(ruWordList[i])"
   ]
  },
  {
   "cell_type": "code",
   "execution_count": 87,
   "id": "b79806c5-6a67-41f0-b934-3f86301b57bf",
   "metadata": {
    "tags": []
   },
   "outputs": [],
   "source": [
    "#лематизации текста на русском языке\n",
    "lemmatizedRuText = []\n",
    "temp = []\n",
    "for i in range (0, len(ruWordList), 1):\n",
    "    for word in ruWordList[i]:\n",
    "        p = morph.parse(word)[0]\n",
    "        lemmatizedRuText.append(p.normal_form)"
   ]
  },
  {
   "cell_type": "code",
   "execution_count": 101,
   "id": "3142956c-0e62-4dca-be6a-d0574c66daad",
   "metadata": {
    "tags": []
   },
   "outputs": [
    {
     "data": {
      "text/plain": [
       "['varlamov',\n",
       " 'mcfaul',\n",
       " 'на',\n",
       " 'велла',\n",
       " 'они',\n",
       " 'всё',\n",
       " 'равно',\n",
       " 'что',\n",
       " 'мусор',\n",
       " 'так',\n",
       " 'что',\n",
       " 'ничего',\n",
       " 'страшный',\n",
       " '🤣',\n",
       " 'трезвый',\n",
       " 'жизнь',\n",
       " 'какаять',\n",
       " 'такой',\n",
       " 'стрёмный',\n",
       " 'с',\n",
       " 'артём',\n",
       " 'azrtusa',\n",
       " 'ой',\n",
       " 'какой',\n",
       " 'неожиданный',\n",
       " 'результат',\n",
       " '🤭',\n",
       " 'httpstcozwohpdkuqq',\n",
       " 'shvonderchief',\n",
       " 'dimsmirnov175',\n",
       " 'на',\n",
       " 'забор',\n",
       " 'тоже',\n",
       " 'написаноа',\n",
       " 'там',\n",
       " 'другоео',\n",
       " 'сбор',\n",
       " 'деньга',\n",
       " 'слышать',\n",
       " 'впервые',\n",
       " 'idkwhht',\n",
       " 'мы',\n",
       " 'тоже',\n",
       " 'мебельный',\n",
       " 'компания',\n",
       " 'уджина😳😳😳',\n",
       " 'счастие',\n",
       " 'здоровье',\n",
       " '10',\n",
       " 'классник',\n",
       " 'httpstcom9vunsixdi',\n",
       " 'dntbliev',\n",
       " 'не',\n",
       " 'пасть',\n",
       " 'btstwt',\n",
       " 'ты',\n",
       " 'такой',\n",
       " 'красивый',\n",
       " '😭😭😭🥺💓',\n",
       " 'ladyzchensk',\n",
       " 'цыган',\n",
       " 'хула',\n",
       " 'nikogdanahui1',\n",
       " 'с',\n",
       " 'день',\n",
       " 'рождение',\n",
       " '🥳',\n",
       " 'успех',\n",
       " 'и',\n",
       " 'победа',\n",
       " 'тебе☀️',\n",
       " 'okdaa',\n",
       " 'wifeyoonminn',\n",
       " 'yyoon',\n",
       " 'но',\n",
       " 'ты',\n",
       " 'очень',\n",
       " 'красиво',\n",
       " 'и',\n",
       " 'чувственно',\n",
       " 'писать',\n",
       " 'luvyurbodybby',\n",
       " 'я',\n",
       " 'играть',\n",
       " 'в',\n",
       " 'волейбол',\n",
       " 'не',\n",
       " 'ради',\n",
       " 'смысл',\n",
       " 'susanoo51489064',\n",
       " 'вхвхвха',\n",
       " 'tutby',\n",
       " '📊',\n",
       " '«деть',\n",
       " 'выборы',\n",
       " 'президент',\n",
       " 'беларуси»',\n",
       " '—',\n",
       " 'начать',\n",
       " 'опрос',\n",
       " '—',\n",
       " 'httpstcoem6jwori0t']"
      ]
     },
     "execution_count": 101,
     "metadata": {},
     "output_type": "execute_result"
    }
   ],
   "source": [
    "lemmatizedRuText"
   ]
  },
  {
   "cell_type": "code",
   "execution_count": 105,
   "id": "e2fef89a-1c85-4299-8ff1-fe83e24ed723",
   "metadata": {
    "tags": []
   },
   "outputs": [
    {
     "name": "stdout",
     "output_type": "stream",
     "text": [
      "Твит № 1 , тональность текста : ['neutral']\n",
      "@varlamov @McFaul На\n",
      "----------------------------------------------------------------------------------------------------\n",
      "Твит № 2 , тональность текста : ['negative']\n",
      "велл они  всё равно что мусор так что ничего страшного 🤣\n",
      "----------------------------------------------------------------------------------------------------\n",
      "Твит № 3 , тональность текста : ['neutral']\n",
      "\"трезвая жизнь какая-то такая стрёмная\"\n",
      "(с) артём azrtusa\n",
      "----------------------------------------------------------------------------------------------------\n",
      "Твит № 4 , тональность текста : ['neutral']\n",
      "Ой какие неожиданные результаты 🤭 https://t.co/ZwOHPDKUqq\n",
      "----------------------------------------------------------------------------------------------------\n",
      "Твит № 5 , тональность текста : ['neutral']\n",
      "@Shvonder_chief @dimsmirnov175 На заборе тоже написано,а там другое.О сборе денег слышу впервые.\n",
      "----------------------------------------------------------------------------------------------------\n",
      "Твит № 6 , тональность текста : ['positive']\n",
      "@idkwhht мы тоже мебельная компания уджина😳😳😳\n",
      "----------------------------------------------------------------------------------------------------\n",
      "Твит № 7 , тональность текста : ['speech']\n",
      "Счастья здоровья 10 классникам https://t.co/M9VunSiXDI\n",
      "----------------------------------------------------------------------------------------------------\n",
      "Твит № 8 , тональность текста : ['neutral']\n",
      "@dntbliev НЕ ПАЛИ.\n",
      "----------------------------------------------------------------------------------------------------\n",
      "Твит № 9 , тональность текста : ['positive']\n",
      "@BTS_twt ты такой красивый 😭😭😭🥺💓\n",
      "----------------------------------------------------------------------------------------------------\n",
      "Твит № 10 , тональность текста : ['negative']\n",
      "@Ladyzchensk Цыган , хуле ...\n",
      "----------------------------------------------------------------------------------------------------\n",
      "Твит № 11 , тональность текста : ['speech']\n",
      "@nikogdanahui1 С днём рождения 🥳 \n",
      "Успехов и побед тебе☀️\n",
      "----------------------------------------------------------------------------------------------------\n",
      "Твит № 12 , тональность текста : ['positive']\n",
      "@okdaa @wifeyoonminn @Y_Yoon_ Но ты очень красиво и чувственно пишешь(\n",
      "----------------------------------------------------------------------------------------------------\n",
      "Твит № 13 , тональность текста : ['neutral']\n",
      "@Luvyurbodybby \"Я играю в волейбол не ради смысла.\"\n",
      "----------------------------------------------------------------------------------------------------\n",
      "Твит № 14 , тональность текста : ['skip']\n",
      "@Susanoo51489064 ВХВХВХ\n",
      "----------------------------------------------------------------------------------------------------\n",
      "Твит № 15 , тональность текста : ['neutral']\n",
      "@tutby 📊\n",
      "-- «День Выборов Президента Беларуси» — начать опрос — https://t.co/eM6JwORI0t\n",
      "----------------------------------------------------------------------------------------------------\n"
     ]
    }
   ],
   "source": [
    "for i in range(0, len(ruText), 1):\n",
    "    print(\"Твит №\", i + 1, \", тональность текста :\", ruModel([ruText[i]]))\n",
    "    print(ruText[i])\n",
    "    print(\"----------------------------------------------------------------------------------------------------\")"
   ]
  }
 ],
 "metadata": {
  "kernelspec": {
   "display_name": "Python 3 (ipykernel)",
   "language": "python",
   "name": "python3"
  },
  "language_info": {
   "codemirror_mode": {
    "name": "ipython",
    "version": 3
   },
   "file_extension": ".py",
   "mimetype": "text/x-python",
   "name": "python",
   "nbconvert_exporter": "python",
   "pygments_lexer": "ipython3",
   "version": "3.10.13"
  }
 },
 "nbformat": 4,
 "nbformat_minor": 5
}
