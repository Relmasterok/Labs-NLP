{
 "cells": [
  {
   "cell_type": "code",
   "execution_count": 1,
   "id": "68d47c08-81c2-4334-8e13-94ae9855d307",
   "metadata": {},
   "outputs": [],
   "source": [
    "import tkinter as tk\n",
    "import requests"
   ]
  },
  {
   "cell_type": "code",
   "execution_count": 2,
   "id": "3ea02f3f-cb6a-4f53-bed9-3f050e74039d",
   "metadata": {
    "tags": []
   },
   "outputs": [],
   "source": [
    "CHAD_API_KEY = 'chad-b5c7b9f9af754feb8ff39bde4d9bd44fqlctw6cf'"
   ]
  },
  {
   "cell_type": "code",
   "execution_count": 3,
   "id": "cf0714ae-82c8-40a8-958c-452bc35de357",
   "metadata": {
    "tags": []
   },
   "outputs": [],
   "source": [
    "# Функция, вызываемая при нажатии кнопки\n",
    "def output():\n",
    "    user_input = str(entry.get())\n",
    "    \n",
    "    # Формируем запрос\n",
    "    request_json = {\n",
    "        \"message\": user_input + \"напиши только технические характеристики без комментариев\",\n",
    "        \"api_key\": CHAD_API_KEY,\n",
    "    }\n",
    "    \n",
    "    # Отправляем запрос и дожидаемся ответа\n",
    "    response = requests.post(url = 'https://ask.chadgpt.ru/api/public/gpt-3.5', json = request_json)\n",
    "    \n",
    "    # Проверяем, отправился ли запрос\n",
    "    if response.status_code != 200:\n",
    "        print(f'Ошибка! Код http-ответа: {response.status_code}')\n",
    "    else:\n",
    "        # Получаем текст ответа и преобразовываем в dict\n",
    "        resp_json = response.json()\n",
    "\n",
    "        # Если успешен ответ, то выводим\n",
    "        if resp_json['is_success']:\n",
    "            resp_msg = resp_json['response']\n",
    "            used_words = resp_json['used_words_count']\n",
    "            result_label.config(text = f'{resp_msg}\\n')\n",
    "        else:\n",
    "            error = resp_json['error_message']\n",
    "            print(f'Ошибка: {error}')"
   ]
  },
  {
   "cell_type": "code",
   "execution_count": 4,
   "id": "14c35b17-4690-46cc-8006-1284258d056c",
   "metadata": {
    "tags": []
   },
   "outputs": [
    {
     "data": {
      "text/plain": [
       "''"
      ]
     },
     "execution_count": 4,
     "metadata": {},
     "output_type": "execute_result"
    }
   ],
   "source": [
    "# Создание окна\n",
    "window = tk.Tk()\n",
    "window.title(\"Характеристики данного устройства: \")"
   ]
  },
  {
   "cell_type": "code",
   "execution_count": 5,
   "id": "6fa5f079-e411-4d2e-8e7a-6d1cd692fbf3",
   "metadata": {
    "tags": []
   },
   "outputs": [],
   "source": [
    "# Создание текстового поля\n",
    "entry = tk.Entry(window)\n",
    "entry.pack()"
   ]
  },
  {
   "cell_type": "code",
   "execution_count": 6,
   "id": "f3dce65e-bb25-4b3e-9e4e-3c1f46d6abc0",
   "metadata": {
    "tags": []
   },
   "outputs": [],
   "source": [
    "# Создание кнопки\n",
    "button = tk.Button(window, text = \"Запросить\", command = output)\n",
    "button.pack()"
   ]
  },
  {
   "cell_type": "code",
   "execution_count": 7,
   "id": "0deffb9f-c152-4714-b5e1-4ed5aec8683a",
   "metadata": {
    "tags": []
   },
   "outputs": [],
   "source": [
    "# Создание метки для вывода результата\n",
    "result_label = tk.Label(window)\n",
    "result_label.pack()"
   ]
  },
  {
   "cell_type": "code",
   "execution_count": 8,
   "id": "c495793d-c1b3-4fcd-92d3-e8b9daf2d240",
   "metadata": {
    "tags": []
   },
   "outputs": [],
   "source": [
    "window.mainloop()"
   ]
  }
 ],
 "metadata": {
  "kernelspec": {
   "display_name": "Python 3 (ipykernel)",
   "language": "python",
   "name": "python3"
  },
  "language_info": {
   "codemirror_mode": {
    "name": "ipython",
    "version": 3
   },
   "file_extension": ".py",
   "mimetype": "text/x-python",
   "name": "python",
   "nbconvert_exporter": "python",
   "pygments_lexer": "ipython3",
   "version": "3.10.13"
  }
 },
 "nbformat": 4,
 "nbformat_minor": 5
}
