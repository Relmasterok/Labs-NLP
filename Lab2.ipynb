{
 "cells": [
  {
   "cell_type": "code",
   "execution_count": 2,
   "id": "888cc80e-85a8-4641-8680-a77b29143cfb",
   "metadata": {},
   "outputs": [],
   "source": [
    "from deeppavlov import build_model\n",
    "from natasha import (\n",
    "Segmenter,\n",
    "\n",
    "NewsEmbedding,\n",
    "NewsMorphTagger,\n",
    "NewsSyntaxParser,\n",
    "\n",
    "Doc\n",
    ")\n",
    "from natasha import NewsNERTagger"
   ]
  },
  {
   "cell_type": "code",
   "execution_count": 4,
   "id": "47371075-e963-49c8-bb57-ce2f127c2a89",
   "metadata": {},
   "outputs": [
    {
     "name": "stderr",
     "output_type": "stream",
     "text": [
      "2023-10-18 16:43:13.319 INFO in 'deeppavlov.core.data.utils'['utils'] at line 95: Downloading from http://files.deeppavlov.ai/datasets/insults_data.tar.gz to C:\\Users\\admin\\.deeppavlov\\insults_data.tar.gz\n",
      "100%|██████████| 682k/682k [00:01<00:00, 649kB/s] \n",
      "2023-10-18 16:43:14.896 INFO in 'deeppavlov.core.data.utils'['utils'] at line 276: Extracting C:\\Users\\admin\\.deeppavlov\\insults_data.tar.gz archive into C:\\Users\\admin\\.deeppavlov\\downloads\n",
      "2023-10-18 16:43:17.955 INFO in 'deeppavlov.core.data.utils'['utils'] at line 95: Downloading from http://files.deeppavlov.ai/deeppavlov_data/classifiers/insults_kaggle_torch_bert_v5.tar.gz to C:\\Users\\admin\\.deeppavlov\\models\\insults_kaggle_torch_bert_v5.tar.gz\n",
      "100%|██████████| 1.09G/1.09G [02:30<00:00, 7.24MB/s]\n",
      "2023-10-18 16:45:50.365 INFO in 'deeppavlov.core.data.utils'['utils'] at line 276: Extracting C:\\Users\\admin\\.deeppavlov\\models\\insults_kaggle_torch_bert_v5.tar.gz archive into C:\\Users\\admin\\.deeppavlov\\models\\classifiers\n"
     ]
    },
    {
     "data": {
      "application/vnd.jupyter.widget-view+json": {
       "model_id": "e30de5527c6b491fa3f3441413cca630",
       "version_major": 2,
       "version_minor": 0
      },
      "text/plain": [
       "(…)cased/resolve/main/tokenizer_config.json:   0%|          | 0.00/28.0 [00:00<?, ?B/s]"
      ]
     },
     "metadata": {},
     "output_type": "display_data"
    },
    {
     "name": "stderr",
     "output_type": "stream",
     "text": [
      "C:\\Users\\admin\\AppData\\Roaming\\Python\\Python310\\site-packages\\huggingface_hub\\file_download.py:138: UserWarning: `huggingface_hub` cache-system uses symlinks by default to efficiently store duplicated files but your machine does not support them in C:\\Users\\admin\\.cache\\huggingface\\hub. Caching files will still work but in a degraded version that might require more space on your disk. This warning can be disabled by setting the `HF_HUB_DISABLE_SYMLINKS_WARNING` environment variable. For more details, see https://huggingface.co/docs/huggingface_hub/how-to-cache#limitations.\n",
      "To support symlinks on Windows, you either need to activate Developer Mode or to run Python as an administrator. In order to see activate developer mode, see this article: https://docs.microsoft.com/en-us/windows/apps/get-started/enable-your-device-for-development\n",
      "  warnings.warn(message)\n"
     ]
    },
    {
     "data": {
      "application/vnd.jupyter.widget-view+json": {
       "model_id": "7e3e14aa7a844f6ca90f519747d15bb0",
       "version_major": 2,
       "version_minor": 0
      },
      "text/plain": [
       "(…)rt-base-uncased/resolve/main/config.json:   0%|          | 0.00/570 [00:00<?, ?B/s]"
      ]
     },
     "metadata": {},
     "output_type": "display_data"
    },
    {
     "data": {
      "application/vnd.jupyter.widget-view+json": {
       "model_id": "a830e140adac453fa500f2f7810da749",
       "version_major": 2,
       "version_minor": 0
      },
      "text/plain": [
       "(…)bert-base-uncased/resolve/main/vocab.txt:   0%|          | 0.00/232k [00:00<?, ?B/s]"
      ]
     },
     "metadata": {},
     "output_type": "display_data"
    },
    {
     "data": {
      "application/vnd.jupyter.widget-view+json": {
       "model_id": "0ff2fc360fc6492e942edcc37f767a59",
       "version_major": 2,
       "version_minor": 0
      },
      "text/plain": [
       "(…)base-uncased/resolve/main/tokenizer.json:   0%|          | 0.00/466k [00:00<?, ?B/s]"
      ]
     },
     "metadata": {},
     "output_type": "display_data"
    },
    {
     "data": {
      "application/vnd.jupyter.widget-view+json": {
       "model_id": "4d29fa79521647cb9c62598b44c6099a",
       "version_major": 2,
       "version_minor": 0
      },
      "text/plain": [
       "model.safetensors:   0%|          | 0.00/440M [00:00<?, ?B/s]"
      ]
     },
     "metadata": {},
     "output_type": "display_data"
    },
    {
     "name": "stderr",
     "output_type": "stream",
     "text": [
      "Some weights of the model checkpoint at bert-base-uncased were not used when initializing BertForSequenceClassification: ['cls.predictions.bias', 'cls.predictions.transform.LayerNorm.bias', 'cls.predictions.transform.dense.weight', 'cls.predictions.transform.dense.bias', 'cls.seq_relationship.bias', 'cls.seq_relationship.weight', 'cls.predictions.transform.LayerNorm.weight']\n",
      "- This IS expected if you are initializing BertForSequenceClassification from the checkpoint of a model trained on another task or with another architecture (e.g. initializing a BertForSequenceClassification model from a BertForPreTraining model).\n",
      "- This IS NOT expected if you are initializing BertForSequenceClassification from the checkpoint of a model that you expect to be exactly identical (initializing a BertForSequenceClassification model from a BertForSequenceClassification model).\n",
      "Some weights of BertForSequenceClassification were not initialized from the model checkpoint at bert-base-uncased and are newly initialized: ['classifier.weight', 'classifier.bias']\n",
      "You should probably TRAIN this model on a down-stream task to be able to use it for predictions and inference.\n",
      "2023-10-18 16:46:44.411 WARNING in 'deeppavlov.core.models.torch_model'['torch_model'] at line 96: Unable to place component TorchTransformersClassifierModel on GPU, since no CUDA GPUs are available. Using CPU.\n"
     ]
    }
   ],
   "source": [
    "model = build_model('insults_kaggle_bert', install=True, download=True)"
   ]
  },
  {
   "cell_type": "code",
   "execution_count": 5,
   "id": "cb0d289b-40a2-4530-84ad-32c120be8b9f",
   "metadata": {},
   "outputs": [
    {
     "data": {
      "text/plain": [
       "['Insult']"
      ]
     },
     "execution_count": 5,
     "metadata": {},
     "output_type": "execute_result"
    }
   ],
   "source": [
    "model(['You are stupid!'])"
   ]
  },
  {
   "cell_type": "code",
   "execution_count": 6,
   "id": "c8920ccb-c8d8-432f-a7ab-b19a8b74dcee",
   "metadata": {},
   "outputs": [
    {
     "data": {
      "text/plain": [
       "['Not Insult']"
      ]
     },
     "execution_count": 6,
     "metadata": {},
     "output_type": "execute_result"
    }
   ],
   "source": [
    "model(['ты тупой!'])"
   ]
  },
  {
   "cell_type": "code",
   "execution_count": 7,
   "id": "2a817bd3-4002-4c45-a516-a7fffba18d81",
   "metadata": {},
   "outputs": [
    {
     "data": {
      "text/plain": [
       "['Insult']"
      ]
     },
     "execution_count": 7,
     "metadata": {},
     "output_type": "execute_result"
    }
   ],
   "source": [
    "model(['Your mom is my slave!'])"
   ]
  },
  {
   "cell_type": "code",
   "execution_count": null,
   "id": "1d2a76e8-3363-4e96-a44a-1cb8ad7e34fe",
   "metadata": {},
   "outputs": [],
   "source": []
  }
 ],
 "metadata": {
  "kernelspec": {
   "display_name": "Python 3 (ipykernel)",
   "language": "python",
   "name": "python3"
  },
  "language_info": {
   "codemirror_mode": {
    "name": "ipython",
    "version": 3
   },
   "file_extension": ".py",
   "mimetype": "text/x-python",
   "name": "python",
   "nbconvert_exporter": "python",
   "pygments_lexer": "ipython3",
   "version": "3.10.9"
  }
 },
 "nbformat": 4,
 "nbformat_minor": 5
}
