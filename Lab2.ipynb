{
 "cells": [
  {
   "cell_type": "code",
   "execution_count": 58,
   "id": "eebd885b-9e28-4756-a4e2-0381732bb540",
   "metadata": {},
   "outputs": [],
   "source": [
    "from deeppavlov import build_model \n",
    "from natasha import (\n",
    "    Segmenter,\n",
    "    MorphVocab,\n",
    "    \n",
    "    NewsEmbedding,\n",
    "    NewsMorphTagger,\n",
    "    NewsSyntaxParser,\n",
    "    NewsNERTagger,\n",
    "    \n",
    "    PER,\n",
    "    NamesExtractor,\n",
    "\n",
    "    Doc\n",
    ")"
   ]
  },
  {
   "cell_type": "code",
   "execution_count": 59,
   "id": "a3974c8e-8871-4479-a068-6989bd9e47ac",
   "metadata": {},
   "outputs": [],
   "source": [
    " from natasha import NewsNERTagger"
   ]
  },
  {
   "cell_type": "code",
   "execution_count": 61,
   "id": "f5206215-bf5f-45ba-86a0-b16304096f16",
   "metadata": {},
   "outputs": [],
   "source": [
    "segmenter= Segmenter()"
   ]
  },
  {
   "cell_type": "code",
   "execution_count": 65,
   "id": "5eff3e7b-2172-42d2-854b-ade9870477bb",
   "metadata": {},
   "outputs": [],
   "source": [
    "text = 'Тебя зовут Паша'\n",
    "doc = Doc(text)"
   ]
  },
  {
   "cell_type": "code",
   "execution_count": 66,
   "id": "b98bb8da-d2c8-401e-8446-8ed8243d014e",
   "metadata": {},
   "outputs": [
    {
     "name": "stdout",
     "output_type": "stream",
     "text": [
      "[DocToken(stop=4, text='Тебя'), DocToken(start=5, stop=10, text='зовут'), DocToken(start=11, stop=15, text='Паша')]\n",
      "[DocSent(stop=15, text='Тебя зовут Паша', tokens=[...])]\n"
     ]
    }
   ],
   "source": [
    "doc.segment(segmenter)\n",
    "print(doc.tokens[:5])\n",
    "print(doc.sents[:5])"
   ]
  },
  {
   "cell_type": "code",
   "execution_count": 67,
   "id": "b6b5304e-999d-4cd4-a1f1-a305390bacdc",
   "metadata": {},
   "outputs": [
    {
     "data": {
      "text/plain": [
       "[[['Тебя', 'зовут', 'Паша']], [['O', 'O', 'B-PERSON']]]"
      ]
     },
     "execution_count": 67,
     "metadata": {},
     "output_type": "execute_result"
    }
   ],
   "source": [
    "model([doc.text])"
   ]
  },
  {
   "cell_type": "code",
   "execution_count": null,
   "id": "c6cf4aee-b293-426d-85df-e252d91b6f25",
   "metadata": {},
   "outputs": [],
   "source": []
  },
  {
   "cell_type": "code",
   "execution_count": null,
   "id": "cf93ea80-8319-41f2-aaf0-ccdc852fa572",
   "metadata": {},
   "outputs": [],
   "source": []
  }
 ],
 "metadata": {
  "kernelspec": {
   "display_name": "Python 3 (ipykernel)",
   "language": "python",
   "name": "python3"
  },
  "language_info": {
   "codemirror_mode": {
    "name": "ipython",
    "version": 3
   },
   "file_extension": ".py",
   "mimetype": "text/x-python",
   "name": "python",
   "nbconvert_exporter": "python",
   "pygments_lexer": "ipython3",
   "version": "3.10.9"
  }
 },
 "nbformat": 4,
 "nbformat_minor": 5
}
