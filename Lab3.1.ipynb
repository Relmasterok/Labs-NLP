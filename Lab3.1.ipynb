{
 "cells": [
  {
   "cell_type": "code",
   "execution_count": 10,
   "id": "079857a0-cac5-485a-8c41-39cf6c591bff",
   "metadata": {
    "tags": []
   },
   "outputs": [],
   "source": [
    "import pandas as panda\n",
    "from deeppavlov import configs, build_model\n",
    "from nltk.stem import WordNetLemmatizer\n",
    "import nltk"
   ]
  },
  {
   "cell_type": "code",
   "execution_count": 11,
   "id": "93d69c97-ad78-484a-97f6-5aa2666daa08",
   "metadata": {
    "tags": []
   },
   "outputs": [],
   "source": [
    "data = panda.read_csv('C:/Users/maksi/anaconda3/dataset/toxic_comments.csv')"
   ]
  },
  {
   "cell_type": "code",
   "execution_count": 12,
   "id": "d84bfbd1-6519-4cc2-8770-5e727b451963",
   "metadata": {
    "tags": []
   },
   "outputs": [],
   "source": [
    "text = data['text']"
   ]
  },
  {
   "cell_type": "code",
   "execution_count": 13,
   "id": "2a5a92ce-314c-4202-9a99-3ee62758e32c",
   "metadata": {},
   "outputs": [],
   "source": [
    "sentence = text[0]"
   ]
  },
  {
   "cell_type": "code",
   "execution_count": 14,
   "id": "622ae9c5-e320-4bf6-bede-79b6ebafaff2",
   "metadata": {
    "tags": []
   },
   "outputs": [],
   "source": [
    "wordList = nltk.word_tokenize(sentence)"
   ]
  },
  {
   "cell_type": "code",
   "execution_count": 15,
   "id": "9fe20999-4610-4156-8ab3-b3766e50c630",
   "metadata": {
    "tags": []
   },
   "outputs": [
    {
     "name": "stdout",
     "output_type": "stream",
     "text": [
      "['Explanation', 'Why', 'the', 'edits', 'made', 'under', 'my', 'username', 'Hardcore', 'Metallica', 'Fan', 'were', 'reverted', '?', 'They', 'were', \"n't\", 'vandalisms', ',', 'just', 'closure', 'on', 'some', 'GAs', 'after', 'I', 'voted', 'at', 'New', 'York', 'Dolls', 'FAC', '.', 'And', 'please', 'do', \"n't\", 'remove', 'the', 'template', 'from', 'the', 'talk', 'page', 'since', 'I', \"'m\", 'retired', 'now.89.205.38.27']\n"
     ]
    }
   ],
   "source": [
    "print(wordList)"
   ]
  },
  {
   "cell_type": "code",
   "execution_count": 16,
   "id": "f492f636-1977-4c2d-ba6e-3df5f80fefb6",
   "metadata": {
    "tags": []
   },
   "outputs": [],
   "source": [
    "lemmatizer = WordNetLemmatizer()"
   ]
  },
  {
   "cell_type": "code",
   "execution_count": 17,
   "id": "12a1096d-3f07-461f-9d10-f40f68d84297",
   "metadata": {
    "tags": []
   },
   "outputs": [],
   "source": [
    "lemmatizedOutput = ' '.join([lemmatizer.lemmatize(w) for w in wordList])"
   ]
  },
  {
   "cell_type": "code",
   "execution_count": 18,
   "id": "67947f32-8e50-4ed8-a58c-b62e2b09e019",
   "metadata": {
    "tags": []
   },
   "outputs": [
    {
     "name": "stdout",
     "output_type": "stream",
     "text": [
      "Explanation Why the edits made under my username Hardcore Metallica Fan were reverted ? They were n't vandalism , just closure on some GAs after I voted at New York Dolls FAC . And please do n't remove the template from the talk page since I 'm retired now.89.205.38.27\n"
     ]
    }
   ],
   "source": [
    "print(lemmatizedOutput)"
   ]
  },
  {
   "cell_type": "code",
   "execution_count": null,
   "id": "ae2e81a2-22df-4b20-9208-19b9c5b2a7ab",
   "metadata": {},
   "outputs": [],
   "source": []
  }
 ],
 "metadata": {
  "kernelspec": {
   "display_name": "Python 3 (ipykernel)",
   "language": "python",
   "name": "python3"
  },
  "language_info": {
   "codemirror_mode": {
    "name": "ipython",
    "version": 3
   },
   "file_extension": ".py",
   "mimetype": "text/x-python",
   "name": "python",
   "nbconvert_exporter": "python",
   "pygments_lexer": "ipython3",
   "version": "3.10.13"
  }
 },
 "nbformat": 4,
 "nbformat_minor": 5
}
